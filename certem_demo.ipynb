{
 "cells": [
  {
   "cell_type": "code",
   "execution_count": 48,
   "metadata": {},
   "outputs": [],
   "source": [
    "import os\n",
    "import pandas as pd\n",
    "import ipywidgets as widgets\n",
    "from IPython.display import display\n",
    "from matplotlib import pyplot as plt\n",
    "from pathlib import Path\n",
    "import graphviz\n"
   ]
  },
  {
   "cell_type": "code",
   "execution_count": 2,
   "metadata": {},
   "outputs": [
    {
     "data": {
      "text/html": [
       "\n",
       "<style>\n",
       "    div#notebook-container    { width: 95%; }\n",
       "    div#menubar-container     { width: 65%; }\n",
       "    div#maintoolbar-container { width: 99%; }\n",
       "</style>\n"
      ],
      "text/plain": [
       "<IPython.core.display.HTML object>"
      ]
     },
     "metadata": {},
     "output_type": "display_data"
    }
   ],
   "source": [
    "from IPython.display import HTML\n",
    "\n",
    "display(HTML(data=\"\"\"\n",
    "<style>\n",
    "    div#notebook-container    { width: 95%; }\n",
    "    div#menubar-container     { width: 65%; }\n",
    "    div#maintoolbar-container { width: 99%; }\n",
    "</style>\n",
    "\"\"\"))"
   ]
  },
  {
   "cell_type": "code",
   "execution_count": 3,
   "metadata": {},
   "outputs": [],
   "source": [
    "def custom_plot(df, name):\n",
    "    f1 = plt.figure()\n",
    "    ax1 = f1.add_subplot(111)\n",
    "    df.plot(kind = 'bar',ax=ax1)\n",
    "    img_path = 'data/img/'+name+'.png'\n",
    "    plt.savefig(img_path)\n",
    "    plt.close()\n",
    "    return  [f1, img_path]"
   ]
  },
  {
   "cell_type": "code",
   "execution_count": 4,
   "metadata": {},
   "outputs": [],
   "source": [
    "datasets = [name for name in os.listdir(\"data\")]\n",
    "datasets.remove('img')"
   ]
  },
  {
   "cell_type": "code",
   "execution_count": 5,
   "metadata": {},
   "outputs": [],
   "source": [
    "datasets_dropdown = widgets.Dropdown(\n",
    "    options=datasets,\n",
    "    value=datasets[0],\n",
    "    description='Dataset',\n",
    "    disabled=False,\n",
    ")\n",
    "\n",
    "gt_filter = widgets.RadioButtons(\n",
    "    options=['Any', 'NO-MATCH', 'MATCH'],\n",
    "    description='Label',\n",
    "    disabled=False\n",
    ")\n",
    "\n",
    "pred_filter = widgets.RadioButtons(\n",
    "    options=['Any', 'NO-MATCH', 'MATCH'],\n",
    "    description='Prediction',\n",
    "    disabled=False\n",
    ")\n",
    "\n",
    "sys_label = widgets.Label(\n",
    "    value='ER Systems'\n",
    ")\n",
    "de_cb = widgets.Checkbox(\n",
    "    value=True,\n",
    "    description='DeepER',\n",
    "    disabled=False,\n",
    "    indent=False,\n",
    ")\n",
    "dm_cb = widgets.Checkbox(\n",
    "    value=True,\n",
    "    description='DeepMatcher',\n",
    "    disabled=False,\n",
    "    indent=False,\n",
    ")\n",
    "dt_cb = widgets.Checkbox(\n",
    "    value=True,\n",
    "    description='Ditto',\n",
    "    disabled=False,\n",
    "    indent=False,\n",
    ")\n",
    "\n",
    "box_layout = widgets.Layout(display='flex',\n",
    "                flex_flow='column',\n",
    "                align_items='center')\n"
   ]
  },
  {
   "cell_type": "code",
   "execution_count": 7,
   "metadata": {},
   "outputs": [],
   "source": [
    "#def f2(dataset, deeper, dm, ditto, item):\n",
    "    "
   ]
  },
  {
   "cell_type": "code",
   "execution_count": 8,
   "metadata": {},
   "outputs": [],
   "source": [
    "out2 = widgets.Output()"
   ]
  },
  {
   "cell_type": "code",
   "execution_count": 9,
   "metadata": {},
   "outputs": [],
   "source": [
    "#out3 = widgets.interactive_output(f2, {'dataset': datasets_dropdown, 'deeper': de_cb, 'dm': dm_cb, 'ditto':dt_cb, 'selected_item': selected_item})\n"
   ]
  },
  {
   "cell_type": "code",
   "execution_count": 142,
   "metadata": {},
   "outputs": [],
   "source": [
    "def f(dataset, deeper, dm, ditto, pred_filter, gt_filter):\n",
    "    samples = pd.read_csv('data/'+dataset+'/samples.csv').drop(['ltable_id', 'rtable_id'], axis=1)\n",
    "    if not deeper:\n",
    "        samples = samples.drop(['DeepER'], axis=1)\n",
    "    if not dm:\n",
    "        samples = samples.drop(['DeepMatcher'], axis=1)\n",
    "    if not ditto:\n",
    "        samples = samples.drop(['Ditto'], axis=1)\n",
    "    if gt_filter == 'NO-MATCH':\n",
    "        samples = samples[samples['label']==0]\n",
    "    if gt_filter == 'MATCH':\n",
    "        samples = samples[samples['label']==1]\n",
    "    if pred_filter == 'NO-MATCH':\n",
    "        samples = samples[samples['DeepER']<0.5]\n",
    "    if pred_filter == 'MATCH':\n",
    "        samples = samples[('DeepER' in samples.columns and samples['DeepER']>0.5) | ('DeepMatcher' in samples.columns and samples['DeepMatcher']>0.5) | ('Ditto' in samples.columns and samples['Ditto']>0.5)]\n",
    "    samples = samples.loc[:, ~samples.columns.str.contains('^Unnamed')]\n",
    "    buttons = []\n",
    "    for idx in range(len(samples)):\n",
    "        button = widgets.Button(description=\"Explain Item \"+str(idx))\n",
    "        def on_button_clicked(b):\n",
    "            saliencies = dict()\n",
    "            cfs = dict()\n",
    "            item_idx = int(b.description[-1])\n",
    "            if deeper:\n",
    "                saliency = pd.read_csv('data/'+dataset+'/DeepER/certa.csv')['explanation'].iloc[item_idx]\n",
    "                first_cf = pd.read_csv('data/'+dataset+'/DeepER/'+str(idx)+'/certa.csv').iloc[0]\n",
    "                saliencies['DeepER'] = saliency\n",
    "                cfs['DeepER'] = first_cf\n",
    "            if dm:\n",
    "                saliency = pd.read_csv('data/'+dataset+'/DeepMatcher/certa.csv')['explanation'].iloc[item_idx]\n",
    "                first_cf = pd.read_csv('data/'+dataset+'/DeepMatcher/'+str(idx)+'/certa.csv').iloc[0]\n",
    "                saliencies['DeepMatcher'] = saliency\n",
    "                cfs['DeepMatcher'] = first_cf\n",
    "            if ditto:\n",
    "                saliency = pd.read_csv('data/'+dataset+'/Ditto/certa.csv')['explanation'].iloc[item_idx]\n",
    "                first_cf = pd.read_csv('data/'+dataset+'/Ditto/'+str(idx)+'/certa.csv').iloc[0]\n",
    "                saliencies['Ditto'] = saliency\n",
    "                cfs['Ditto'] = first_cf\n",
    "            saliencies_box = []\n",
    "            for k in saliencies.keys():\n",
    "                saliency_df = pd.DataFrame(eval(saliencies[k]),index=[0])\n",
    "                cnv, path = custom_plot(saliency_df, dataset+'_'+k+'_'+str(idx))\n",
    "                img = widgets.Image(value=open(path, 'rb').read(), format='png')\n",
    "                inspect_button = widgets.Button(description='Inspect '+k)\n",
    "                def inspect_button_click(ib):\n",
    "                    selected_model = ib.description[8:]\n",
    "                    single_pred = samples.loc[item_idx]\n",
    "                    for sm in ['DeepER', 'DeepMatcher', 'Ditto']:\n",
    "                        if sm != selected_model:\n",
    "                            single_pred = single_pred.drop(sm)\n",
    "                    pred_out = widgets.Output()\n",
    "                    with pred_out:\n",
    "                        display(pd.DataFrame(single_pred).T)\n",
    "                    out_pnn = widgets.Output()\n",
    "                    with out_pnn:\n",
    "                        display(saliency_df)\n",
    "                    out_pss = widgets.Output()\n",
    "                    with out_pss:\n",
    "                        display()\n",
    "                    \n",
    "                    item_data_path = 'data/'+dataset+'/'+selected_model+'/'+str(item_idx)+'/'\n",
    "                    tr_files = [f for f in Path(item_data_path).iterdir() if f.match(\"triangle_*.csv\")]\n",
    "                    tr_dfs = []\n",
    "                    for tr_file in tr_files:\n",
    "                        tr_dfs.append(pd.read_csv(tr_file).drop(['Unnamed: 0'], axis=1))\n",
    "                    lt_files = [f for f in Path(item_data_path).iterdir() if f.match(\"lattice_*.dot\")]\n",
    "                    tr_slider = widgets.IntSlider(value=0, min=0, max=len(tr_files)-1, step=1, description='Triangle:', disabled=False, continuous_update=False, orientation='horizontal',\n",
    "                            readout=True, readout_format='d')\n",
    "                    def tr_slide(slide):\n",
    "                        out_df = widgets.Output()\n",
    "                        with out_df:\n",
    "                            display(tr_dfs[slide])\n",
    "                        display(widgets.VBox([widgets.Image(value=graphviz.Source.from_file(lt_files[slide]).pipe(format='png'),format='png'), out_df], layout=box_layout))\n",
    "                    tr_out = widgets.interactive_output(tr_slide, {'slide': tr_slider})\n",
    "                    display(widgets.VBox([widgets.Label(selected_model+' Prediction'), pred_out, \n",
    "                                          widgets.Label('Probability of Necessity'),\n",
    "                                          out_pnn,\n",
    "                                          widgets.Label('Probability of Sufficiency'),\n",
    "                                          out_pss,\n",
    "                                          widgets.HBox([tr_slider]), tr_out], layout=box_layout))\n",
    "                inspect_button.on_click(inspect_button_click)    \n",
    "                saliencies_box.append(widgets.VBox([img , inspect_button], layout=box_layout))\n",
    "            cfs_df = pd.DataFrame.from_dict(cfs).T.drop(['alteredAttributes', 'attr_count', 'copiedValues', 'droppedValues', 'label', 'triangle', 'nomatch_score'], axis=1)\n",
    "            cfs_df['prediction'] = cfs_df['match_score'].copy()\n",
    "            cfs_df = cfs_df.drop(['match_score'], axis=1)\n",
    "            cfs_df = cfs_df.loc[:, ~cfs_df.columns.str.contains('^Unnamed')]\n",
    "            out2.clear_output()\n",
    "            display(widgets.HBox(saliencies_box))\n",
    "            display(cfs_df)\n",
    "        button.on_click(on_button_clicked)\n",
    "        buttons.append(button)\n",
    "    buttons_box = widgets.HBox(buttons)\n",
    "    display(samples, buttons_box, out2)"
   ]
  },
  {
   "cell_type": "code",
   "execution_count": 143,
   "metadata": {},
   "outputs": [],
   "source": [
    "out = widgets.interactive_output(f, {'dataset': datasets_dropdown, 'deeper': de_cb, 'dm': dm_cb, 'ditto':dt_cb, 'pred_filter': pred_filter, 'gt_filter': gt_filter})"
   ]
  },
  {
   "cell_type": "code",
   "execution_count": 144,
   "metadata": {},
   "outputs": [],
   "source": [
    "first_box = widgets.VBox([datasets_dropdown])\n",
    "second_box = widgets.HBox([sys_label, widgets.VBox([de_cb, dm_cb, dt_cb])])\n",
    "third_box = widgets.VBox([gt_filter])\n",
    "fourth_box = widgets.VBox([pred_filter])\n",
    "top1 = widgets.HBox([first_box, second_box, third_box, fourth_box])\n",
    "ui = widgets.VBox([top1, out, out2], layout=box_layout)"
   ]
  },
  {
   "cell_type": "code",
   "execution_count": 145,
   "metadata": {
    "scrolled": false
   },
   "outputs": [
    {
     "data": {
      "application/vnd.jupyter.widget-view+json": {
       "model_id": "ba8108fbf0444447b91c3a5184eb0f69",
       "version_major": 2,
       "version_minor": 0
      },
      "text/plain": [
       "VBox(children=(HBox(children=(VBox(children=(Dropdown(description='Dataset', index=1, options=('AB', 'BA', 'IA…"
      ]
     },
     "metadata": {},
     "output_type": "display_data"
    }
   ],
   "source": [
    "ui"
   ]
  },
  {
   "cell_type": "code",
   "execution_count": null,
   "metadata": {},
   "outputs": [],
   "source": []
  }
 ],
 "metadata": {
  "kernelspec": {
   "display_name": "Python 3",
   "language": "python",
   "name": "python3"
  },
  "language_info": {
   "codemirror_mode": {
    "name": "ipython",
    "version": 3
   },
   "file_extension": ".py",
   "mimetype": "text/x-python",
   "name": "python",
   "nbconvert_exporter": "python",
   "pygments_lexer": "ipython3",
   "version": "3.6.8"
  }
 },
 "nbformat": 4,
 "nbformat_minor": 4
}
